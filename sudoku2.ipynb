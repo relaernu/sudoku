{
 "cells": [
  {
   "cell_type": "code",
   "execution_count": 1,
   "metadata": {},
   "outputs": [],
   "source": [
    "class sudoku:\n",
    "    def __init__(self):\n",
    "        self.Matrix = []\n",
    "        for i in range(0,9):\n",
    "            tmp = []\n",
    "            for j in range(0,9):\n",
    "                tmp.append(None)\n",
    "            self.Matrix.append(tmp)\n",
    "\n",
    "    def GetRow(self, rownum):\n",
    "        return self.Matrix[rownum]\n",
    "\n",
    "    def GetCol(self, colnum):\n",
    "        return [x[colnum] for x in self.Matrix]\n",
    "\n",
    "    def GetCell(self, rownum, colnum):\n",
    "        return self.Matrix[rownum][colnum]\n",
    "\n",
    "    def SetRow(self, rownum, values):\n",
    "        self.Matrix[rownum] = values\n",
    "\n",
    "    def SetCol(self, colnum, values):\n",
    "        for i in range(0,9):\n",
    "            self.Matrix[i][colnum] = values[i]\n",
    "\n",
    "    def SetCell(self, rownum, colnum, value):\n",
    "        self.Matrix[rownum][colnum] = value\n",
    "\n",
    "    def ShiftLeft(self, vlist):\n",
    "        vfirst = vlist.pop(0)\n",
    "        vlist.append(vfirst)\n",
    "\n",
    "    def GetRowExists(self, rownum):\n",
    "        row = self.GetRow(rownum)\n",
    "        return [x for x in row if not x is None]\n",
    "\n",
    "    def GetColExists(self, colnum):\n",
    "        col = self.GetCol(colnum)\n",
    "        return [x for x in col if not x is None]\n",
    "\n",
    "    def LogicAnd(self, list1, list2):\n",
    "        list1.sort()\n",
    "        list2.sort()\n",
    "        andset = []\n",
    "        for l1 in list1:\n",
    "            for l2 in list2:\n",
    "                if l2 == l1:\n",
    "                    andset.append(l2)\n",
    "                    break\n",
    "        return andset\n",
    "\n",
    "    def LogicXor(self, list1, list2):\n",
    "        andset = self.LogicAnd(list1, list2)\n",
    "        xorset = []\n",
    "        for l1 in list1:\n",
    "            if not l1 in andset:\n",
    "                xorset.append(l1)\n",
    "        for l2 in list2:\n",
    "            if not l2 in andset:\n",
    "                xorset.append(l2)\n",
    "        xorset.sort()\n",
    "        return xorset\n"
   ]
  },
  {
   "cell_type": "code",
   "execution_count": 6,
   "metadata": {},
   "outputs": [],
   "source": [
    "sd = sudoku()\n",
    "numbers = [0,1,2,3,4,5,6,7,8]\n",
    "for i in range(0,9):\n",
    "    sd.SetRow(i, numbers.copy())\n",
    "    sd.ShiftLeft(numbers)"
   ]
  },
  {
   "cell_type": "code",
   "execution_count": 16,
   "metadata": {},
   "outputs": [
    {
     "data": {
      "text/plain": [
       "7"
      ]
     },
     "execution_count": 16,
     "metadata": {},
     "output_type": "execute_result"
    }
   ],
   "source": []
  }
 ],
 "metadata": {
  "kernelspec": {
   "display_name": "Python 3.8.8 ('base')",
   "language": "python",
   "name": "python3"
  },
  "language_info": {
   "codemirror_mode": {
    "name": "ipython",
    "version": 3
   },
   "file_extension": ".py",
   "mimetype": "text/x-python",
   "name": "python",
   "nbconvert_exporter": "python",
   "pygments_lexer": "ipython3",
   "version": "3.8.8"
  },
  "orig_nbformat": 4,
  "vscode": {
   "interpreter": {
    "hash": "8a1187d777b43ec27276df55e3635dde3d18b1b2ec0a37cbaceaf3df66ffe041"
   }
  }
 },
 "nbformat": 4,
 "nbformat_minor": 2
}
