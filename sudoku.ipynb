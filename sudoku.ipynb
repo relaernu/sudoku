{
 "cells": [
  {
   "cell_type": "code",
   "execution_count": 3,
   "metadata": {},
   "outputs": [],
   "source": [
    "class sudoku:\n",
    "    def __init__(self):\n",
    "        self.Values = []\n",
    "        for i in range(0,81):\n",
    "            self.Values.append(None)\n",
    "\n",
    "    def GetRow(self, rownum):\n",
    "        return self.Values[rownum*9: rownum*9+9]\n",
    "\n",
    "\n",
    "    def GetCol(self, colnum):\n",
    "        col = []\n",
    "        for i in range(0,9):\n",
    "            col.append(i*9+colnum)\n",
    "        return col\n",
    "\n",
    "    def GetCell(self, rownum, colnum):\n",
    "        row = self.GetRow(rownum)\n",
    "        return row[colnum]\n",
    "\n",
    "    def SetRow(self, rownum, values):\n",
    "        if len(values) != 9:\n",
    "            raise ValueError(\"Values must be 9 elements.\")\n",
    "        else:\n",
    "            rowstart = rownum*9\n",
    "            for i in range(rowstart, rowstart+9):\n",
    "                self.Values[i] = values[i-rowstart]\n",
    "\n",
    "    def SetCol(self, colnum, values):\n",
    "        if len(values) != 9:\n",
    "            raise ValueError(\"Values must be 9 elements.\")\n",
    "        else:\n",
    "            for i in range(0,9):\n",
    "                self.Values[i*9+colnum] = values[i]        \n",
    "\n",
    "    def SetCell(self, rownum, colnum, value):\n",
    "        self.Values[rownum*9 + colnum] = value\n",
    "\n",
    "    def ShiftLeft(self, vlist):\n",
    "        vfirst = vlist.pop(0)\n",
    "        vlist.append(vfirst)"
   ]
  },
  {
   "cell_type": "code",
   "execution_count": 7,
   "metadata": {},
   "outputs": [],
   "source": [
    "numbers = [0,1,2,3,4,5,6,7,8]\n",
    "sd = sudoku()\n",
    "for i in range(0,9):\n",
    "    sd.SetRow(i, numbers)\n",
    "    sd.ShiftLeft(numbers)"
   ]
  },
  {
   "cell_type": "code",
   "execution_count": 9,
   "metadata": {},
   "outputs": [
    {
     "data": {
      "text/plain": [
       "81"
      ]
     },
     "execution_count": 9,
     "metadata": {},
     "output_type": "execute_result"
    }
   ],
   "source": [
    "sd.G"
   ]
  }
 ],
 "metadata": {
  "kernelspec": {
   "display_name": "Python 3.8.8 ('base')",
   "language": "python",
   "name": "python3"
  },
  "language_info": {
   "codemirror_mode": {
    "name": "ipython",
    "version": 3
   },
   "file_extension": ".py",
   "mimetype": "text/x-python",
   "name": "python",
   "nbconvert_exporter": "python",
   "pygments_lexer": "ipython3",
   "version": "3.8.8"
  },
  "orig_nbformat": 4,
  "vscode": {
   "interpreter": {
    "hash": "8a1187d777b43ec27276df55e3635dde3d18b1b2ec0a37cbaceaf3df66ffe041"
   }
  }
 },
 "nbformat": 4,
 "nbformat_minor": 2
}
